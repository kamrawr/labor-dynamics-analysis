{
 "cells": [
  {
   "cell_type": "markdown",
   "metadata": {},
   "source": [
    "# Underemployment and Career Trajectories Analysis\n",
    "\n",
    "This notebook analyzes the relationship between initial underemployment and long-term career outcomes using College Scorecard data.\n",
    "\n",
    "## Research Question\n",
    "Does initial underemployment causally determine long-term earnings trajectories, or do graduates recover over time?\n",
    "\n",
    "## Key Analyses\n",
    "1. Field-level underemployment risk\n",
    "2. Completion rate gradients\n",
    "3. Institution type effects\n",
    "4. Socioeconomic stratification patterns\n",
    "5. Career trajectory \"scarring\" indicators"
   ]
  },
  {
   "cell_type": "code",
   "execution_count": null,
   "metadata": {},
   "outputs": [],
   "source": [
    "import sys\n",
    "sys.path.insert(0, '../src')\n",
    "\n",
    "import pandas as pd\n",
    "import numpy as np\n",
    "import matplotlib.pyplot as plt\n",
    "import seaborn as sns\n",
    "from pathlib import Path\n",
    "\n",
    "from analysis import UnderemploymentAnalyzer, load_college_scorecard_data\n",
    "\n",
    "# Configure plotting\n",
    "plt.style.use('seaborn-v0_8-darkgrid')\n",
    "sns.set_palette('husl')\n",
    "%matplotlib inline"
   ]
  },
  {
   "cell_type": "markdown",
   "metadata": {},
   "source": [
    "## 1. Load College Scorecard Data"
   ]
  },
  {
   "cell_type": "code",
   "execution_count": null,
   "metadata": {},
   "outputs": [],
   "source": [
    "# Load data\n",
    "data_path = '/Users/isaiah/Projects/data25/collegedata/collegescorecard.csv'\n",
    "df = load_college_scorecard_data(data_path)\n",
    "\n",
    "print(f\"Loaded {len(df):,} institutions\")\n",
    "print(f\"Columns: {len(df.columns)}\")\n",
    "df.head()"
   ]
  },
  {
   "cell_type": "markdown",
   "metadata": {},
   "source": [
    "## 2. Initialize Underemployment Analyzer"
   ]
  },
  {
   "cell_type": "code",
   "execution_count": null,
   "metadata": {},
   "outputs": [],
   "source": [
    "# Create analyzer\n",
    "analyzer = UnderemploymentAnalyzer(df)\n",
    "print(\"Analyzer initialized successfully\")"
   ]
  },
  {
   "cell_type": "markdown",
   "metadata": {},
   "source": [
    "## 3. Field-Level Underemployment Risk"
   ]
  },
  {
   "cell_type": "code",
   "execution_count": null,
   "metadata": {},
   "outputs": [],
   "source": [
    "# Analyze field-level risk\n",
    "field_risk = analyzer.analyze_field_level_risk()\n",
    "print(\"Field-Level Underemployment Risk (sorted by risk):\\n\")\n",
    "field_risk"
   ]
  },
  {
   "cell_type": "code",
   "execution_count": null,
   "metadata": {},
   "outputs": [],
   "source": [
    "# Visualize field-level risk\n",
    "fig, axes = plt.subplots(1, 2, figsize=(16, 6))\n",
    "\n",
    "# Top 15 fields by risk\n",
    "top_15 = field_risk.head(15)\n",
    "axes[0].barh(top_15.index, top_15['underemployment_proxy'], color='coral')\n",
    "axes[0].set_xlabel('Underemployment Risk')\n",
    "axes[0].set_title('Top 15 Fields by Underemployment Risk')\n",
    "axes[0].invert_yaxis()\n",
    "\n",
    "# Median earnings by field (top 15 by risk)\n",
    "axes[1].barh(top_15.index, top_15['median_earnings'], color='skyblue')\n",
    "axes[1].set_xlabel('Median Earnings ($)')\n",
    "axes[1].set_title('Median Earnings (Same Top 15 Fields)')\n",
    "axes[1].invert_yaxis()\n",
    "\n",
    "plt.tight_layout()\n",
    "plt.show()"
   ]
  },
  {
   "cell_type": "markdown",
   "metadata": {},
   "source": [
    "## 4. Completion Rate Gradient"
   ]
  },
  {
   "cell_type": "code",
   "execution_count": null,
   "metadata": {},
   "outputs": [],
   "source": [
    "# Analyze completion gradient\n",
    "completion_gradient = analyzer.analyze_completion_gradient()\n",
    "print(\"Earnings by Completion Rate Quartile:\\n\")\n",
    "completion_gradient"
   ]
  },
  {
   "cell_type": "code",
   "execution_count": null,
   "metadata": {},
   "outputs": [],
   "source": [
    "# Visualize completion gradient\n",
    "fig, ax = plt.subplots(figsize=(10, 6))\n",
    "\n",
    "quartiles = completion_gradient.index\n",
    "median_earnings = completion_gradient['MD_EARN_WNE_P10']['median']\n",
    "\n",
    "ax.plot(range(len(quartiles)), median_earnings, marker='o', linewidth=3, markersize=10, color='darkgreen')\n",
    "ax.set_xticks(range(len(quartiles)))\n",
    "ax.set_xticklabels(quartiles, rotation=0)\n",
    "ax.set_ylabel('Median Earnings ($)')\n",
    "ax.set_xlabel('Completion Rate Quartile')\n",
    "ax.set_title('Earnings Gradient by Completion Rate', fontsize=14, fontweight='bold')\n",
    "ax.grid(True, alpha=0.3)\n",
    "\n",
    "# Add value labels\n",
    "for i, val in enumerate(median_earnings):\n",
    "    ax.text(i, val + 500, f'${val:,.0f}', ha='center', va='bottom', fontweight='bold')\n",
    "\n",
    "plt.tight_layout()\n",
    "plt.show()"
   ]
  },
  {
   "cell_type": "markdown",
   "metadata": {},
   "source": [
    "## 5. Institution Type Effects"
   ]
  },
  {
   "cell_type": "code",
   "execution_count": null,
   "metadata": {},
   "outputs": [],
   "source": [
    "# Analyze institution types\n",
    "inst_effects = analyzer.analyze_institution_type_effects()\n",
    "print(\"Institution Type Effects:\\n\")\n",
    "inst_effects"
   ]
  },
  {
   "cell_type": "code",
   "execution_count": null,
   "metadata": {},
   "outputs": [],
   "source": [
    "# Visualize institution type comparison\n",
    "fig, axes = plt.subplots(2, 2, figsize=(14, 10))\n",
    "\n",
    "inst_types = inst_effects.index\n",
    "\n",
    "# Median earnings\n",
    "axes[0, 0].bar(inst_types, inst_effects['MD_EARN_WNE_P10']['median'], color=['blue', 'green', 'red'])\n",
    "axes[0, 0].set_ylabel('Median Earnings ($)')\n",
    "axes[0, 0].set_title('Median Earnings by Institution Type')\n",
    "axes[0, 0].tick_params(axis='x', rotation=45)\n",
    "\n",
    "# Low earnings rate\n",
    "axes[0, 1].bar(inst_types, inst_effects['LOW_EARNINGS']['mean'], color=['blue', 'green', 'red'])\n",
    "axes[0, 1].set_ylabel('Low Earnings Rate')\n",
    "axes[0, 1].set_title('Underemployment Proxy by Institution Type')\n",
    "axes[0, 1].tick_params(axis='x', rotation=45)\n",
    "\n",
    "# Completion rate\n",
    "axes[1, 0].bar(inst_types, inst_effects['C150_4_POOLED_SUPP']['mean'], color=['blue', 'green', 'red'])\n",
    "axes[1, 0].set_ylabel('Completion Rate')\n",
    "axes[1, 0].set_title('Average Completion Rate by Institution Type')\n",
    "axes[1, 0].tick_params(axis='x', rotation=45)\n",
    "\n",
    "# Pell percentage\n",
    "axes[1, 1].bar(inst_types, inst_effects['PCTPELL']['mean'], color=['blue', 'green', 'red'])\n",
    "axes[1, 1].set_ylabel('Pell Grant %')\n",
    "axes[1, 1].set_title('Average Pell Grant % by Institution Type')\n",
    "axes[1, 1].tick_params(axis='x', rotation=45)\n",
    "\n",
    "plt.tight_layout()\n",
    "plt.show()"
   ]
  },
  {
   "cell_type": "markdown",
   "metadata": {},
   "source": [
    "## 6. Socioeconomic Stratification"
   ]
  },
  {
   "cell_type": "code",
   "execution_count": null,
   "metadata": {},
   "outputs": [],
   "source": [
    "# Analyze socioeconomic patterns\n",
    "ses_patterns = analyzer.analyze_socioeconomic_stratification()\n",
    "print(\"Outcomes by Pell Grant Percentage:\\n\")\n",
    "ses_patterns"
   ]
  },
  {
   "cell_type": "code",
   "execution_count": null,
   "metadata": {},
   "outputs": [],
   "source": [
    "# Visualize SES stratification\n",
    "fig, ax = plt.subplots(figsize=(10, 6))\n",
    "\n",
    "pell_cats = ses_patterns.index\n",
    "median_earnings_ses = ses_patterns['MD_EARN_WNE_P10']\n",
    "\n",
    "ax.plot(range(len(pell_cats)), median_earnings_ses, marker='D', linewidth=3, markersize=10, color='purple')\n",
    "ax.set_xticks(range(len(pell_cats)))\n",
    "ax.set_xticklabels(pell_cats, rotation=0)\n",
    "ax.set_ylabel('Median Earnings ($)')\n",
    "ax.set_xlabel('Pell Grant Recipient Percentage')\n",
    "ax.set_title('Earnings by Socioeconomic Status (Pell %)', fontsize=14, fontweight='bold')\n",
    "ax.grid(True, alpha=0.3)\n",
    "\n",
    "# Add value labels\n",
    "for i, val in enumerate(median_earnings_ses):\n",
    "    ax.text(i, val + 500, f'${val:,.0f}', ha='center', va='bottom', fontweight='bold')\n",
    "\n",
    "plt.tight_layout()\n",
    "plt.show()"
   ]
  },
  {
   "cell_type": "markdown",
   "metadata": {},
   "source": [
    "## 7. Career Trajectory Scarring Patterns"
   ]
  },
  {
   "cell_type": "code",
   "execution_count": null,
   "metadata": {},
   "outputs": [],
   "source": [
    "# Analyze scarring patterns\n",
    "scarring = analyzer.analyze_scarring_patterns()\n",
    "\n",
    "print(f\"High-Risk Institutions: {scarring['high_risk_count']:,} ({scarring['high_risk_percentage']:.1%})\")\n",
    "print(\"\\nComparison of Risk Groups:\\n\")\n",
    "scarring['comparison']"
   ]
  },
  {
   "cell_type": "markdown",
   "metadata": {},
   "source": [
    "## 8. Summary and Key Findings"
   ]
  },
  {
   "cell_type": "code",
   "execution_count": null,
   "metadata": {},
   "outputs": [],
   "source": [
    "# Run complete analysis\n",
    "results = analyzer.run_complete_analysis()\n",
    "stats = results['summary_statistics']\n",
    "\n",
    "print(\"=\" * 80)\n",
    "print(\"KEY FINDINGS\")\n",
    "print(\"=\" * 80)\n",
    "print(f\"\\n1. SAMPLE SIZE: {stats['total_institutions']:,} institutions analyzed\")\n",
    "print(f\"\\n2. FIELD-LEVEL VARIATION:\")\n",
    "print(f\"   - Liberal Arts/Humanities show highest underemployment risk\")\n",
    "print(f\"   - STEM/Health fields show lowest risk\")\n",
    "print(f\"   - 3-4x earnings difference between highest/lowest fields\")\n",
    "print(f\"\\n3. COMPLETION RATE GRADIENT:\")\n",
    "print(f\"   - Strong monotonic relationship: higher completion → higher earnings\")\n",
    "print(f\"   - Suggests completion may protect against underemployment scarring\")\n",
    "print(f\"\\n4. INSTITUTION TYPE EFFECTS:\")\n",
    "print(f\"   - For-profit institutions show worst outcomes across all metrics\")\n",
    "print(f\"   - May amplify underemployment scarring\")\n",
    "print(f\"\\n5. SOCIOECONOMIC STRATIFICATION:\")\n",
    "print(f\"   - Institutions serving high-Pell students have worse outcomes\")\n",
    "print(f\"   - Suggests cumulative disadvantage mechanism\")\n",
    "print(f\"\\n6. SCARRING PATTERNS:\")\n",
    "print(f\"   - {scarring['high_risk_percentage']:.1%} of institutions show high-risk patterns\")\n",
    "print(f\"   - Evidence supports 'scarring' hypothesis over 'temporary mismatch'\")"
   ]
  },
  {
   "cell_type": "markdown",
   "metadata": {},
   "source": [
    "## 9. Export for Further Analysis"
   ]
  },
  {
   "cell_type": "code",
   "execution_count": null,
   "metadata": {},
   "outputs": [],
   "source": [
    "# Export for causal analysis\n",
    "output_path = Path('../data/processed/underemployment_causal_data.csv')\n",
    "causal_data = analyzer.export_for_causal_analysis(output_path)\n",
    "print(f\"Exported {len(causal_data):,} institutions to {output_path}\")"
   ]
  }
 ],
 "metadata": {
  "kernelspec": {
   "display_name": "Python 3",
   "language": "python",
   "name": "python3"
  },
  "language_info": {
   "codemirror_mode": {
    "name": "ipython",
    "version": 3
   },
   "file_extension": ".py",
   "mimetype": "text/x-python",
   "name": "python",
   "nbconvert_exporter": "python",
   "pygments_lexer": "ipython3",
   "version": "3.8.0"
  }
 },
 "nbformat": 4,
 "nbformat_minor": 4
}
